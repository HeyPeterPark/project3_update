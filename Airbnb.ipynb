{
 "cells": [
  {
   "cell_type": "markdown",
   "metadata": {},
   "source": [
    "# Part I. Procuring Datasets for Last 12 Months\n",
    "***\n",
    "Importing dependencies and setting basic URL variables. URL will look like: \n",
    "<br/> \n",
    "*`http://data.insideairbnb.com/united-states/il/chicago/2019-07-15/visualisations/listings.csv`*"
   ]
  },
  {
   "cell_type": "code",
   "execution_count": 1,
   "metadata": {
    "scrolled": true
   },
   "outputs": [
    {
     "data": {
      "text/plain": [
       "'http://data.insideairbnb.com/united-states/il/chicago/2019-07-15/visualisations/listings.csv'"
      ]
     },
     "execution_count": 1,
     "metadata": {},
     "output_type": "execute_result"
    }
   ],
   "source": [
    "import os\n",
    "import glob\n",
    "import wget\n",
    "import pandas as pd\n",
    "import requests\n",
    "import json\n",
    "import numpy as np\n",
    "import matplotlib.pyplot as plt\n",
    "from datetime import datetime\n",
    "from dateutil.parser import parse\n",
    "from urllib.request import urlopen, URLError\n",
    "from pprint import pprint\n",
    "\n",
    "base = 'http://data.insideairbnb.com/united-states/il/chicago/'\n",
    "v = '/visualisations'\n",
    "        \n",
    "l = '/listings.csv'\n",
    "r = '/reviews.csv'\n",
    "\n",
    "base+'2019-'+'07-'+'15'+v+l"
   ]
  },
  {
   "cell_type": "markdown",
   "metadata": {},
   "source": [
    "Create year, month, and day lists to be used as a lookup. \n",
    "<br/> \n",
    "Convert integers into padded string variables."
   ]
  },
  {
   "cell_type": "code",
   "execution_count": 21,
   "metadata": {},
   "outputs": [
    {
     "name": "stdout",
     "output_type": "stream",
     "text": [
      "Year:\n",
      "['2018-', '2019-']\n",
      "\n",
      "Month:\n",
      "['01-', '02-', '03-', '04-', '05-', '06-', '07-', '08-', '09-', '10-', '11-', '12-']\n",
      "\n",
      "Day:\n",
      "['01', '02', '03', '04', '05', '06', '07', '08', '09', '10', '11', '12', '13', '14', '15', '16', '17', '18', '19', '20', '21', '22', '23', '24', '25', '26', '27', '28', '29', '30', '31']\n"
     ]
    }
   ],
   "source": [
    "yr = [str(x) + '-' for x in list(range(2018,2020))]\n",
    "\n",
    "mo = [format(x, '02d') + '-' for x in list(range(1,13))]\n",
    "\n",
    "dy = [format(x, '02d') for x in list(range(1,32))]\n",
    "\n",
    "print(f'Year:\\n{yr}\\n\\nMonth:\\n{mo}\\n\\nDay:\\n{dy}')"
   ]
  },
  {
   "cell_type": "code",
   "execution_count": 3,
   "metadata": {},
   "outputs": [
    {
     "data": {
      "text/plain": [
       "'2018-01-01'"
      ]
     },
     "execution_count": 3,
     "metadata": {},
     "output_type": "execute_result"
    }
   ],
   "source": [
    "temp = yr[0]+mo[0]+dy[0]\n",
    "temp"
   ]
  },
  {
   "cell_type": "code",
   "execution_count": 19,
   "metadata": {
    "scrolled": false
   },
   "outputs": [
    {
     "data": {
      "text/plain": [
       "['2018-01-01',\n",
       " '2019-01-01',\n",
       " '2018-02-01',\n",
       " '2019-02-01',\n",
       " '2018-03-01',\n",
       " '2019-03-01',\n",
       " '2018-04-01',\n",
       " '2019-04-01',\n",
       " '2018-05-01',\n",
       " '2019-05-01']"
      ]
     },
     "execution_count": 19,
     "metadata": {},
     "output_type": "execute_result"
    }
   ],
   "source": [
    "# ymd_full = []\n",
    "\n",
    "# for day in dy: \n",
    "#     for month in mo:\n",
    "#         for year in yr:\n",
    "#             ymd_full.append(year+month+day)\n",
    "\n",
    "ymd_full = [(year+month+day) for day in dy for month in mo for year in yr]\n",
    "\n",
    "ymd_full[:10]"
   ]
  },
  {
   "cell_type": "markdown",
   "metadata": {},
   "source": [
    "Creating a function to generate a gross list of links\n",
    "***"
   ]
  },
  {
   "cell_type": "code",
   "execution_count": 22,
   "metadata": {
    "scrolled": true
   },
   "outputs": [
    {
     "name": "stdout",
     "output_type": "stream",
     "text": [
      "type of review? listing\n",
      "['http://data.insideairbnb.com/united-states/il/chicago/2018-01-01/visualisations/listings.csv',\n",
      " 'http://data.insideairbnb.com/united-states/il/chicago/2019-01-01/visualisations/listings.csv',\n",
      " 'http://data.insideairbnb.com/united-states/il/chicago/2018-02-01/visualisations/listings.csv',\n",
      " 'http://data.insideairbnb.com/united-states/il/chicago/2019-02-01/visualisations/listings.csv',\n",
      " 'http://data.insideairbnb.com/united-states/il/chicago/2018-03-01/visualisations/listings.csv',\n",
      " 'http://data.insideairbnb.com/united-states/il/chicago/2019-03-01/visualisations/listings.csv',\n",
      " 'http://data.insideairbnb.com/united-states/il/chicago/2018-04-01/visualisations/listings.csv',\n",
      " 'http://data.insideairbnb.com/united-states/il/chicago/2019-04-01/visualisations/listings.csv',\n",
      " 'http://data.insideairbnb.com/united-states/il/chicago/2018-05-01/visualisations/listings.csv',\n",
      " 'http://data.insideairbnb.com/united-states/il/chicago/2019-05-01/visualisations/listings.csv']\n",
      "\n",
      "\n",
      "type of review? review\n",
      "['http://data.insideairbnb.com/united-states/il/chicago/2018-01-01/visualisations/reviews.csv',\n",
      " 'http://data.insideairbnb.com/united-states/il/chicago/2019-01-01/visualisations/reviews.csv',\n",
      " 'http://data.insideairbnb.com/united-states/il/chicago/2018-02-01/visualisations/reviews.csv',\n",
      " 'http://data.insideairbnb.com/united-states/il/chicago/2019-02-01/visualisations/reviews.csv',\n",
      " 'http://data.insideairbnb.com/united-states/il/chicago/2018-03-01/visualisations/reviews.csv',\n",
      " 'http://data.insideairbnb.com/united-states/il/chicago/2019-03-01/visualisations/reviews.csv',\n",
      " 'http://data.insideairbnb.com/united-states/il/chicago/2018-04-01/visualisations/reviews.csv',\n",
      " 'http://data.insideairbnb.com/united-states/il/chicago/2019-04-01/visualisations/reviews.csv',\n",
      " 'http://data.insideairbnb.com/united-states/il/chicago/2018-05-01/visualisations/reviews.csv',\n",
      " 'http://data.insideairbnb.com/united-states/il/chicago/2019-05-01/visualisations/reviews.csv']\n",
      "\n",
      "\n",
      "type of review? sdgfl';k\n",
      "\"go home, you're drunk\"\n"
     ]
    }
   ],
   "source": [
    "def download_list_csv(): \n",
    "    type = input('type of review? ')\n",
    "    temp = []\n",
    "    for date in ymd_full: \n",
    "        if type.startswith('li'): \n",
    "            temp.append(base+date+v+l)\n",
    "        elif type.startswith('re'): \n",
    "            temp.append(base+date+v+r)\n",
    "        else: \n",
    "            return (\"go home, you're drunk\")\n",
    "    return temp\n",
    "\n",
    "listings_list = download_list_csv()\n",
    "pprint(listings_list[:10])\n",
    "print('\\n')\n",
    "reviews_list = download_list_csv()\n",
    "pprint(reviews_list[:10])\n",
    "print('\\n')\n",
    "temp = download_list_csv()\n",
    "pprint(temp)"
   ]
  },
  {
   "cell_type": "markdown",
   "metadata": {},
   "source": [
    "Using the `urllib` library to validate the URLs in our newly generated lists\n",
    "***"
   ]
  },
  {
   "cell_type": "code",
   "execution_count": 25,
   "metadata": {
    "scrolled": false
   },
   "outputs": [
    {
     "name": "stdout",
     "output_type": "stream",
     "text": [
      "False\n"
     ]
    },
    {
     "data": {
      "text/plain": [
       "True"
      ]
     },
     "execution_count": 25,
     "metadata": {},
     "output_type": "execute_result"
    }
   ],
   "source": [
    "def validate_url(url):\n",
    "    try:\n",
    "        urlopen(url)\n",
    "        return True\n",
    "    except URLError:\n",
    "        return False\n",
    "\n",
    "print(validate_url(\"http://data.insideairbnb.com/united-states/il/chicago/8888888888888888/visualisations/reviews.csv\"))\n",
    "validate_url(\"http://data.insideairbnb.com/united-states/il/chicago/2019-07-15/visualisations/reviews.csv\")"
   ]
  },
  {
   "cell_type": "markdown",
   "metadata": {},
   "source": [
    "Creating a loop utilizing the newly created `validate_url` function\n",
    "***"
   ]
  },
  {
   "cell_type": "code",
   "execution_count": 26,
   "metadata": {
    "scrolled": true
   },
   "outputs": [
    {
     "name": "stdout",
     "output_type": "stream",
     "text": [
      "type of review? listing\n",
      "%%%%%% Ready. Set. Go. %%%%%%\n",
      "-----------------------------\n",
      "1. http://data.insideairbnb.com/united-states/il/chicago/2019-02-09/visualisations/listings.csv\n",
      "-----------------------------\n",
      "2. http://data.insideairbnb.com/united-states/il/chicago/2018-10-11/visualisations/listings.csv\n",
      "-----------------------------\n",
      "3. http://data.insideairbnb.com/united-states/il/chicago/2018-02-12/visualisations/listings.csv\n",
      "-----------------------------\n",
      "4. http://data.insideairbnb.com/united-states/il/chicago/2019-03-12/visualisations/listings.csv\n",
      "-----------------------------\n",
      "5. http://data.insideairbnb.com/united-states/il/chicago/2018-12-13/visualisations/listings.csv\n",
      "-----------------------------\n",
      "6. http://data.insideairbnb.com/united-states/il/chicago/2019-06-14/visualisations/listings.csv\n",
      "-----------------------------\n",
      "7. http://data.insideairbnb.com/united-states/il/chicago/2018-09-14/visualisations/listings.csv\n",
      "-----------------------------\n",
      "8. http://data.insideairbnb.com/united-states/il/chicago/2018-04-15/visualisations/listings.csv\n",
      "-----------------------------\n",
      "9. http://data.insideairbnb.com/united-states/il/chicago/2019-04-15/visualisations/listings.csv\n",
      "-----------------------------\n",
      "10. http://data.insideairbnb.com/united-states/il/chicago/2019-07-15/visualisations/listings.csv\n",
      "-----------------------------\n",
      "11. http://data.insideairbnb.com/united-states/il/chicago/2018-11-15/visualisations/listings.csv\n",
      "-----------------------------\n",
      "12. http://data.insideairbnb.com/united-states/il/chicago/2019-01-17/visualisations/listings.csv\n",
      "-----------------------------\n",
      "13. http://data.insideairbnb.com/united-states/il/chicago/2018-08-17/visualisations/listings.csv\n",
      "-----------------------------\n",
      "14. http://data.insideairbnb.com/united-states/il/chicago/2018-05-18/visualisations/listings.csv\n",
      "-----------------------------\n",
      "15. http://data.insideairbnb.com/united-states/il/chicago/2018-07-18/visualisations/listings.csv\n",
      "-----------------------------\n",
      "16. http://data.insideairbnb.com/united-states/il/chicago/2019-05-19/visualisations/listings.csv\n",
      "-----------------------------\n",
      "17. http://data.insideairbnb.com/united-states/il/chicago/2018-06-19/visualisations/listings.csv\n",
      "-----------------------------\n",
      "18. http://data.insideairbnb.com/united-states/il/chicago/2019-08-19/visualisations/listings.csv\n",
      "-----------------------------\n",
      "19. http://data.insideairbnb.com/united-states/il/chicago/2018-03-21/visualisations/listings.csv\n",
      "-----------------------------\n",
      "20. http://data.insideairbnb.com/united-states/il/chicago/2018-01-25/visualisations/listings.csv\n",
      "-----------------------------\n",
      "%%%%% Ready. Set. Stop. %%%%%\n"
     ]
    }
   ],
   "source": [
    "def download_query(): \n",
    "    \n",
    "    dl_list = download_list_csv()\n",
    "    \n",
    "    invalid = []\n",
    "    valid = []\n",
    "    counter = 0\n",
    "\n",
    "    print(f'{\"%\"*6} Ready. Set. Go. {\"%\"*6}\\n{\"-\"*29}')\n",
    "\n",
    "    for link in dl_list:\n",
    "        if validate_url(link) == False: \n",
    "            invalid.append(link)\n",
    "        else: \n",
    "            valid.append(link)\n",
    "            counter += 1\n",
    "            print(f'{counter}. {link}\\n{\"-\"*29}')\n",
    "    print(f'{\"%\"*5} Ready. Set. Stop. {\"%\"*5}')\n",
    "    return valid\n",
    "          \n",
    "temp = download_query()"
   ]
  },
  {
   "cell_type": "code",
   "execution_count": 34,
   "metadata": {
    "scrolled": false
   },
   "outputs": [
    {
     "data": {
      "text/plain": [
       "['2019-08-19',\n",
       " '2019-07-15',\n",
       " '2019-06-14',\n",
       " '2019-05-19',\n",
       " '2019-04-15',\n",
       " '2019-03-12',\n",
       " '2019-02-09',\n",
       " '2019-01-17',\n",
       " '2018-12-13',\n",
       " '2018-11-15',\n",
       " '2018-10-11',\n",
       " '2018-09-14']"
      ]
     },
     "execution_count": 34,
     "metadata": {},
     "output_type": "execute_result"
    }
   ],
   "source": [
    "ymd_recent = []\n",
    "\n",
    "for x in temp:\n",
    "    x = x.replace(\"http://data.insideairbnb.com/united-states/il/chicago/\", \"\")\n",
    "    x = x.replace(\"/visualisations/listings.csv\", \"\")\n",
    "    ymd_recent.append(x)\n",
    "\n",
    "ymd_recent.sort(key=lambda date: datetime.strptime(date, '%Y-%m-%d'),reverse=True)\n",
    "ymd_recent = ymd_recent[:12]\n",
    "\n",
    "ymd_recent"
   ]
  },
  {
   "cell_type": "code",
   "execution_count": 55,
   "metadata": {
    "scrolled": true
   },
   "outputs": [
    {
     "name": "stdout",
     "output_type": "stream",
     "text": [
      "type of review? listing\n",
      "['http://data.insideairbnb.com/united-states/il/chicago/2019-08-19/visualisations/listings.csv',\n",
      " 'http://data.insideairbnb.com/united-states/il/chicago/2019-07-15/visualisations/listings.csv',\n",
      " 'http://data.insideairbnb.com/united-states/il/chicago/2019-06-14/visualisations/listings.csv',\n",
      " 'http://data.insideairbnb.com/united-states/il/chicago/2019-05-19/visualisations/listings.csv',\n",
      " 'http://data.insideairbnb.com/united-states/il/chicago/2019-04-15/visualisations/listings.csv',\n",
      " 'http://data.insideairbnb.com/united-states/il/chicago/2019-03-12/visualisations/listings.csv',\n",
      " 'http://data.insideairbnb.com/united-states/il/chicago/2019-02-09/visualisations/listings.csv',\n",
      " 'http://data.insideairbnb.com/united-states/il/chicago/2019-01-17/visualisations/listings.csv',\n",
      " 'http://data.insideairbnb.com/united-states/il/chicago/2018-12-13/visualisations/listings.csv',\n",
      " 'http://data.insideairbnb.com/united-states/il/chicago/2018-11-15/visualisations/listings.csv',\n",
      " 'http://data.insideairbnb.com/united-states/il/chicago/2018-10-11/visualisations/listings.csv',\n",
      " 'http://data.insideairbnb.com/united-states/il/chicago/2018-09-14/visualisations/listings.csv']\n"
     ]
    }
   ],
   "source": [
    "def download_list_csv(): \n",
    "    type = input('type of review? ')\n",
    "    temp = []\n",
    "    for date in ymd_recent: \n",
    "        if type.startswith('li'): \n",
    "            temp.append(base+date+v+l)\n",
    "        elif type.startswith('re'): \n",
    "            temp.append(base+date+v+r)\n",
    "        else: \n",
    "            return (\"go home, you're drunk\")\n",
    "    return temp\n",
    "\n",
    "listings_list = download_list_csv()\n",
    "pprint(listings_list)"
   ]
  },
  {
   "cell_type": "code",
   "execution_count": 40,
   "metadata": {
    "scrolled": true
   },
   "outputs": [
    {
     "data": {
      "text/plain": [
       "['08. Aug',\n",
       " '07. Jul',\n",
       " '06. Jun',\n",
       " '05. May',\n",
       " '04. Apr',\n",
       " '03. Mar',\n",
       " '02. Feb',\n",
       " '01. Jan',\n",
       " '12. Dec',\n",
       " '11. Nov',\n",
       " '10. Oct',\n",
       " '09. Sep']"
      ]
     },
     "execution_count": 40,
     "metadata": {},
     "output_type": "execute_result"
    }
   ],
   "source": [
    "ymd_col = []\n",
    "for x in ymd_recent: \n",
    "    x = datetime.strptime(x, '%Y-%m-%d')\n",
    "    x = x.strftime('%m. %b')\n",
    "    ymd_col.append(x)\n",
    "    \n",
    "ymd_col"
   ]
  },
  {
   "cell_type": "code",
   "execution_count": 59,
   "metadata": {},
   "outputs": [],
   "source": [
    "# decided not to use inside jupyter\n",
    "\n",
    "# def bar_custom(current, total, width = 80):\n",
    "#     print(\"Downloading: %d%% [%d / %d] bytes\" % (current / total * 100, current, total))"
   ]
  },
  {
   "cell_type": "code",
   "execution_count": 58,
   "metadata": {},
   "outputs": [
    {
     "name": "stdout",
     "output_type": "stream",
     "text": [
      "100% [..........................................................................] 1238522 / 1238522"
     ]
    }
   ],
   "source": [
    "temp = ['http://data.insideairbnb.com/united-states/il/chicago/2019-02-09/visualisations/listings.csv']\n",
    "\n",
    "def download_csv():\n",
    "    counter = 0\n",
    "\n",
    "    for link in temp:\n",
    "        \n",
    "        x = 'static/data/listings'+str(counter)+'.csv'\n",
    "        wget.download(link, out = \"data\")\n",
    "        os.rename('static/data/listings.csv', x)\n",
    "        counter += 1\n",
    "        \n",
    "download_csv()"
   ]
  },
  {
   "cell_type": "code",
   "execution_count": 63,
   "metadata": {},
   "outputs": [
    {
     "name": "stdout",
     "output_type": "stream",
     "text": [
      "100% [..........................................................................] 1238522 / 1238522"
     ]
    },
    {
     "data": {
      "text/html": [
       "<div>\n",
       "<style scoped>\n",
       "    .dataframe tbody tr th:only-of-type {\n",
       "        vertical-align: middle;\n",
       "    }\n",
       "\n",
       "    .dataframe tbody tr th {\n",
       "        vertical-align: top;\n",
       "    }\n",
       "\n",
       "    .dataframe thead th {\n",
       "        text-align: right;\n",
       "    }\n",
       "</style>\n",
       "<table border=\"1\" class=\"dataframe\">\n",
       "  <thead>\n",
       "    <tr style=\"text-align: right;\">\n",
       "      <th></th>\n",
       "      <th>Unnamed: 0</th>\n",
       "      <th>id</th>\n",
       "      <th>name</th>\n",
       "      <th>host_id</th>\n",
       "      <th>host_name</th>\n",
       "      <th>neighbourhood_group</th>\n",
       "      <th>neighbourhood</th>\n",
       "      <th>latitude</th>\n",
       "      <th>longitude</th>\n",
       "      <th>room_type</th>\n",
       "      <th>price</th>\n",
       "      <th>minimum_nights</th>\n",
       "      <th>number_of_reviews</th>\n",
       "      <th>last_review</th>\n",
       "      <th>reviews_per_month</th>\n",
       "      <th>calculated_host_listings_count</th>\n",
       "      <th>availability_365</th>\n",
       "      <th>month_test</th>\n",
       "    </tr>\n",
       "  </thead>\n",
       "  <tbody>\n",
       "    <tr>\n",
       "      <th>0</th>\n",
       "      <td>0</td>\n",
       "      <td>2384</td>\n",
       "      <td>Large Private Room in Hyde Park - Walk to UChi...</td>\n",
       "      <td>2613</td>\n",
       "      <td>Rebecca</td>\n",
       "      <td>NaN</td>\n",
       "      <td>Hyde Park</td>\n",
       "      <td>41.788865</td>\n",
       "      <td>-87.586709</td>\n",
       "      <td>Private room</td>\n",
       "      <td>50</td>\n",
       "      <td>2</td>\n",
       "      <td>139</td>\n",
       "      <td>2018-12-03</td>\n",
       "      <td>2.79</td>\n",
       "      <td>1</td>\n",
       "      <td>235</td>\n",
       "      <td>08. Aug</td>\n",
       "    </tr>\n",
       "    <tr>\n",
       "      <th>1</th>\n",
       "      <td>1</td>\n",
       "      <td>4505</td>\n",
       "      <td>We're back. 365 Great Reviews.  1 bad one.</td>\n",
       "      <td>5775</td>\n",
       "      <td>Craig &amp; Kathleen</td>\n",
       "      <td>NaN</td>\n",
       "      <td>South Lawndale</td>\n",
       "      <td>41.854953</td>\n",
       "      <td>-87.696962</td>\n",
       "      <td>Entire home/apt</td>\n",
       "      <td>117</td>\n",
       "      <td>2</td>\n",
       "      <td>366</td>\n",
       "      <td>2018-11-24</td>\n",
       "      <td>3.03</td>\n",
       "      <td>1</td>\n",
       "      <td>0</td>\n",
       "      <td>08. Aug</td>\n",
       "    </tr>\n",
       "    <tr>\n",
       "      <th>2</th>\n",
       "      <td>2</td>\n",
       "      <td>6715</td>\n",
       "      <td>Lincoln Park Oasis - Unit 2 ONLY</td>\n",
       "      <td>15365</td>\n",
       "      <td>Reem</td>\n",
       "      <td>NaN</td>\n",
       "      <td>Lincoln Park</td>\n",
       "      <td>41.929262</td>\n",
       "      <td>-87.660091</td>\n",
       "      <td>Entire home/apt</td>\n",
       "      <td>255</td>\n",
       "      <td>4</td>\n",
       "      <td>93</td>\n",
       "      <td>2018-08-12</td>\n",
       "      <td>0.79</td>\n",
       "      <td>2</td>\n",
       "      <td>310</td>\n",
       "      <td>08. Aug</td>\n",
       "    </tr>\n",
       "    <tr>\n",
       "      <th>3</th>\n",
       "      <td>3</td>\n",
       "      <td>7126</td>\n",
       "      <td>Tiny Studio Apartment 94 Walk Score</td>\n",
       "      <td>17928</td>\n",
       "      <td>Sarah</td>\n",
       "      <td>NaN</td>\n",
       "      <td>West Town</td>\n",
       "      <td>41.902895</td>\n",
       "      <td>-87.681822</td>\n",
       "      <td>Entire home/apt</td>\n",
       "      <td>80</td>\n",
       "      <td>2</td>\n",
       "      <td>327</td>\n",
       "      <td>2019-02-04</td>\n",
       "      <td>2.80</td>\n",
       "      <td>1</td>\n",
       "      <td>351</td>\n",
       "      <td>08. Aug</td>\n",
       "    </tr>\n",
       "    <tr>\n",
       "      <th>4</th>\n",
       "      <td>4</td>\n",
       "      <td>9811</td>\n",
       "      <td>Barbara's Hideaway - Old Town</td>\n",
       "      <td>33004</td>\n",
       "      <td>At Home Inn</td>\n",
       "      <td>NaN</td>\n",
       "      <td>Lincoln Park</td>\n",
       "      <td>41.917689</td>\n",
       "      <td>-87.637879</td>\n",
       "      <td>Entire home/apt</td>\n",
       "      <td>150</td>\n",
       "      <td>3</td>\n",
       "      <td>33</td>\n",
       "      <td>2018-10-14</td>\n",
       "      <td>0.56</td>\n",
       "      <td>12</td>\n",
       "      <td>325</td>\n",
       "      <td>08. Aug</td>\n",
       "    </tr>\n",
       "  </tbody>\n",
       "</table>\n",
       "</div>"
      ],
      "text/plain": [
       "   Unnamed: 0    id                                               name  \\\n",
       "0           0  2384  Large Private Room in Hyde Park - Walk to UChi...   \n",
       "1           1  4505         We're back. 365 Great Reviews.  1 bad one.   \n",
       "2           2  6715                   Lincoln Park Oasis - Unit 2 ONLY   \n",
       "3           3  7126                Tiny Studio Apartment 94 Walk Score   \n",
       "4           4  9811                      Barbara's Hideaway - Old Town   \n",
       "\n",
       "   host_id         host_name  neighbourhood_group   neighbourhood   latitude  \\\n",
       "0     2613           Rebecca                  NaN       Hyde Park  41.788865   \n",
       "1     5775  Craig & Kathleen                  NaN  South Lawndale  41.854953   \n",
       "2    15365              Reem                  NaN    Lincoln Park  41.929262   \n",
       "3    17928             Sarah                  NaN       West Town  41.902895   \n",
       "4    33004       At Home Inn                  NaN    Lincoln Park  41.917689   \n",
       "\n",
       "   longitude        room_type  price  minimum_nights  number_of_reviews  \\\n",
       "0 -87.586709     Private room     50               2                139   \n",
       "1 -87.696962  Entire home/apt    117               2                366   \n",
       "2 -87.660091  Entire home/apt    255               4                 93   \n",
       "3 -87.681822  Entire home/apt     80               2                327   \n",
       "4 -87.637879  Entire home/apt    150               3                 33   \n",
       "\n",
       "  last_review  reviews_per_month  calculated_host_listings_count  \\\n",
       "0  2018-12-03               2.79                               1   \n",
       "1  2018-11-24               3.03                               1   \n",
       "2  2018-08-12               0.79                               2   \n",
       "3  2019-02-04               2.80                               1   \n",
       "4  2018-10-14               0.56                              12   \n",
       "\n",
       "   availability_365 month_test  \n",
       "0               235    08. Aug  \n",
       "1                 0    08. Aug  \n",
       "2               310    08. Aug  \n",
       "3               351    08. Aug  \n",
       "4               325    08. Aug  "
      ]
     },
     "execution_count": 63,
     "metadata": {},
     "output_type": "execute_result"
    }
   ],
   "source": [
    "temp = ['http://data.insideairbnb.com/united-states/il/chicago/2019-02-09/visualisations/listings.csv']\n",
    "\n",
    "def download_csv():\n",
    "    counter = 0\n",
    "\n",
    "    for link in temp:\n",
    "        \n",
    "        x = 'static/data/listings'+str(counter)+'.csv'\n",
    "        wget.download(link, out = \"data\")\n",
    "        os.rename('static/data/listings.csv', x)\n",
    "        \n",
    "        month_append = pd.read_csv('static/data/listings'+str(counter)+'.csv')\n",
    "        month_append['month_test'] = ymd_col[counter]\n",
    "        month_append.to_csv('static/data/listings'+str(counter)+'.csv')\n",
    "        counter += 1\n",
    "        \n",
    "download_csv()\n",
    "\n",
    "temp = pd.read_csv('static/data/listings0.csv')\n",
    "temp.head()"
   ]
  },
  {
   "cell_type": "markdown",
   "metadata": {},
   "source": [
    "Combining everything into one function\n",
    "***"
   ]
  },
  {
   "cell_type": "code",
   "execution_count": 67,
   "metadata": {
    "scrolled": true
   },
   "outputs": [
    {
     "name": "stdout",
     "output_type": "stream",
     "text": [
      "type of review? review\n",
      "\n",
      "====== Download start. ======\n",
      "~~~~~~~~~~~~~~~~~~~~~~~~~~~~~\n",
      "100% [..........................................................................] 5028922 / 5028922\n",
      "~~~~~~~~~~~~~~~~~~~~~~~~~~~~~\n",
      "===== Download complete =====\n"
     ]
    }
   ],
   "source": [
    "def download_csv():\n",
    "    csv_list = download_list_csv()\n",
    "    \n",
    "    counter = 0\n",
    "    print(f'\\n{\"=\"*6} Download start. {\"=\"*6}\\n{\"~\"*29}')\n",
    "    for link in csv_list:\n",
    "        if csv_list[0].endswith('listings.csv'): \n",
    "            csv_name = 'static/data/listings'+str(counter)+'.csv'\n",
    "            wget.download(link, out = \"data\")\n",
    "            os.rename('static/data/listings.csv', csv_name)\n",
    "            month_append = pd.read_csv('static/data/listings'+str(counter)+'.csv')\n",
    "            month_append['month_test'] = ymd_col[counter]\n",
    "            month_append.to_csv('static/data/listings'+str(counter)+'.csv')\n",
    "            counter += 1\n",
    "        else: \n",
    "            csv_name = 'static/data/reviews'+str(counter)+'.csv'\n",
    "            wget.download(link, out = \"data\")\n",
    "            os.rename('static/data/reviews.csv', csv_name)\n",
    "            month_append = pd.read_csv('static/data/reviews'+str(counter)+'.csv')\n",
    "            month_append['month_test'] = ymd_col[counter]\n",
    "            month_append.to_csv('static/data/reviews'+str(counter)+'.csv')\n",
    "            counter += 1\n",
    "\n",
    "    print(f'\\n{\"~\"*29}\\n{\"=\"*5} Download complete {\"=\"*5}')\n",
    "    \n",
    "temp = download_csv()"
   ]
  },
  {
   "cell_type": "markdown",
   "metadata": {},
   "source": [
    "# Part II. Merging Datasets\n",
    "***"
   ]
  },
  {
   "cell_type": "code",
   "execution_count": 85,
   "metadata": {
    "scrolled": true
   },
   "outputs": [
    {
     "name": "stdout",
     "output_type": "stream",
     "text": [
      "length is: 95947\n"
     ]
    },
    {
     "data": {
      "text/html": [
       "<div>\n",
       "<style scoped>\n",
       "    .dataframe tbody tr th:only-of-type {\n",
       "        vertical-align: middle;\n",
       "    }\n",
       "\n",
       "    .dataframe tbody tr th {\n",
       "        vertical-align: top;\n",
       "    }\n",
       "\n",
       "    .dataframe thead th {\n",
       "        text-align: right;\n",
       "    }\n",
       "</style>\n",
       "<table border=\"1\" class=\"dataframe\">\n",
       "  <thead>\n",
       "    <tr style=\"text-align: right;\">\n",
       "      <th></th>\n",
       "      <th>id</th>\n",
       "      <th>name</th>\n",
       "      <th>host_id</th>\n",
       "      <th>host_name</th>\n",
       "      <th>neighbourhood</th>\n",
       "      <th>latitude</th>\n",
       "      <th>longitude</th>\n",
       "      <th>room_type</th>\n",
       "      <th>price</th>\n",
       "      <th>minimum_nights</th>\n",
       "      <th>number_of_reviews</th>\n",
       "      <th>reviews_per_month</th>\n",
       "      <th>calculated_host_listings_count</th>\n",
       "      <th>availability_365</th>\n",
       "      <th>month_test</th>\n",
       "    </tr>\n",
       "  </thead>\n",
       "  <tbody>\n",
       "    <tr>\n",
       "      <th>0</th>\n",
       "      <td>2384</td>\n",
       "      <td>Hyde Pk-Walk to UChicago/10 min train to McCor...</td>\n",
       "      <td>2613</td>\n",
       "      <td>Rebecca</td>\n",
       "      <td>Hyde Park</td>\n",
       "      <td>41.78886</td>\n",
       "      <td>-87.58671</td>\n",
       "      <td>Private room</td>\n",
       "      <td>55</td>\n",
       "      <td>2</td>\n",
       "      <td>167</td>\n",
       "      <td>2.98</td>\n",
       "      <td>1</td>\n",
       "      <td>320</td>\n",
       "      <td>08. Aug</td>\n",
       "    </tr>\n",
       "    <tr>\n",
       "      <th>1</th>\n",
       "      <td>4505</td>\n",
       "      <td>One Great Apartment. 377 Great Reviews. 1 Bad ...</td>\n",
       "      <td>5775</td>\n",
       "      <td>Craig &amp; Kathleen</td>\n",
       "      <td>South Lawndale</td>\n",
       "      <td>41.85495</td>\n",
       "      <td>-87.69696</td>\n",
       "      <td>Entire home/apt</td>\n",
       "      <td>117</td>\n",
       "      <td>2</td>\n",
       "      <td>378</td>\n",
       "      <td>2.97</td>\n",
       "      <td>1</td>\n",
       "      <td>332</td>\n",
       "      <td>08. Aug</td>\n",
       "    </tr>\n",
       "    <tr>\n",
       "      <th>2</th>\n",
       "      <td>7126</td>\n",
       "      <td>Tiny Studio Apartment 94 Walk Score</td>\n",
       "      <td>17928</td>\n",
       "      <td>Sarah</td>\n",
       "      <td>West Town</td>\n",
       "      <td>41.90289</td>\n",
       "      <td>-87.68182</td>\n",
       "      <td>Entire home/apt</td>\n",
       "      <td>80</td>\n",
       "      <td>2</td>\n",
       "      <td>355</td>\n",
       "      <td>2.88</td>\n",
       "      <td>1</td>\n",
       "      <td>331</td>\n",
       "      <td>08. Aug</td>\n",
       "    </tr>\n",
       "    <tr>\n",
       "      <th>3</th>\n",
       "      <td>9811</td>\n",
       "      <td>Barbara's Hideaway - Old Town</td>\n",
       "      <td>33004</td>\n",
       "      <td>At Home Inn</td>\n",
       "      <td>Lincoln Park</td>\n",
       "      <td>41.91769</td>\n",
       "      <td>-87.63788</td>\n",
       "      <td>Entire home/apt</td>\n",
       "      <td>150</td>\n",
       "      <td>4</td>\n",
       "      <td>40</td>\n",
       "      <td>0.61</td>\n",
       "      <td>10</td>\n",
       "      <td>335</td>\n",
       "      <td>08. Aug</td>\n",
       "    </tr>\n",
       "    <tr>\n",
       "      <th>4</th>\n",
       "      <td>10610</td>\n",
       "      <td>3 Comforts of Cooperative Living</td>\n",
       "      <td>2140</td>\n",
       "      <td>Lois</td>\n",
       "      <td>Hyde Park</td>\n",
       "      <td>41.79708</td>\n",
       "      <td>-87.59195</td>\n",
       "      <td>Private room</td>\n",
       "      <td>35</td>\n",
       "      <td>2</td>\n",
       "      <td>39</td>\n",
       "      <td>0.66</td>\n",
       "      <td>4</td>\n",
       "      <td>261</td>\n",
       "      <td>08. Aug</td>\n",
       "    </tr>\n",
       "  </tbody>\n",
       "</table>\n",
       "</div>"
      ],
      "text/plain": [
       "      id                                               name  host_id  \\\n",
       "0   2384  Hyde Pk-Walk to UChicago/10 min train to McCor...     2613   \n",
       "1   4505  One Great Apartment. 377 Great Reviews. 1 Bad ...     5775   \n",
       "2   7126                Tiny Studio Apartment 94 Walk Score    17928   \n",
       "3   9811                      Barbara's Hideaway - Old Town    33004   \n",
       "4  10610                   3 Comforts of Cooperative Living     2140   \n",
       "\n",
       "          host_name   neighbourhood  latitude  longitude        room_type  \\\n",
       "0           Rebecca       Hyde Park  41.78886  -87.58671     Private room   \n",
       "1  Craig & Kathleen  South Lawndale  41.85495  -87.69696  Entire home/apt   \n",
       "2             Sarah       West Town  41.90289  -87.68182  Entire home/apt   \n",
       "3       At Home Inn    Lincoln Park  41.91769  -87.63788  Entire home/apt   \n",
       "4              Lois       Hyde Park  41.79708  -87.59195     Private room   \n",
       "\n",
       "   price  minimum_nights  number_of_reviews  reviews_per_month  \\\n",
       "0     55               2                167               2.98   \n",
       "1    117               2                378               2.97   \n",
       "2     80               2                355               2.88   \n",
       "3    150               4                 40               0.61   \n",
       "4     35               2                 39               0.66   \n",
       "\n",
       "   calculated_host_listings_count  availability_365 month_test  \n",
       "0                               1               320    08. Aug  \n",
       "1                               1               332    08. Aug  \n",
       "2                               1               331    08. Aug  \n",
       "3                              10               335    08. Aug  \n",
       "4                               4               261    08. Aug  "
      ]
     },
     "execution_count": 85,
     "metadata": {},
     "output_type": "execute_result"
    }
   ],
   "source": [
    "listings_df = pd.concat(map(pd.read_csv, glob.glob(os.path.join('static/data', \"listings*.csv\"))))\n",
    "\n",
    "listings_df = listings_df.drop(['Unnamed: 0', 'neighbourhood_group', 'last_review'], axis = 1) \n",
    "listings_df = listings_df.fillna(0)\n",
    "\n",
    "print(f'length is: {len(listings_df)}')\n",
    "listings_df.head()"
   ]
  },
  {
   "cell_type": "code",
   "execution_count": 86,
   "metadata": {},
   "outputs": [
    {
     "name": "stdout",
     "output_type": "stream",
     "text": [
      "length is: 3492352\n"
     ]
    },
    {
     "data": {
      "text/html": [
       "<div>\n",
       "<style scoped>\n",
       "    .dataframe tbody tr th:only-of-type {\n",
       "        vertical-align: middle;\n",
       "    }\n",
       "\n",
       "    .dataframe tbody tr th {\n",
       "        vertical-align: top;\n",
       "    }\n",
       "\n",
       "    .dataframe thead th {\n",
       "        text-align: right;\n",
       "    }\n",
       "</style>\n",
       "<table border=\"1\" class=\"dataframe\">\n",
       "  <thead>\n",
       "    <tr style=\"text-align: right;\">\n",
       "      <th></th>\n",
       "      <th>listing_id</th>\n",
       "      <th>date</th>\n",
       "      <th>month_test</th>\n",
       "    </tr>\n",
       "  </thead>\n",
       "  <tbody>\n",
       "    <tr>\n",
       "      <th>0</th>\n",
       "      <td>2384</td>\n",
       "      <td>2015-01-09</td>\n",
       "      <td>08. Aug</td>\n",
       "    </tr>\n",
       "    <tr>\n",
       "      <th>1</th>\n",
       "      <td>2384</td>\n",
       "      <td>2015-03-24</td>\n",
       "      <td>08. Aug</td>\n",
       "    </tr>\n",
       "    <tr>\n",
       "      <th>2</th>\n",
       "      <td>2384</td>\n",
       "      <td>2015-04-19</td>\n",
       "      <td>08. Aug</td>\n",
       "    </tr>\n",
       "    <tr>\n",
       "      <th>3</th>\n",
       "      <td>2384</td>\n",
       "      <td>2015-04-30</td>\n",
       "      <td>08. Aug</td>\n",
       "    </tr>\n",
       "    <tr>\n",
       "      <th>4</th>\n",
       "      <td>2384</td>\n",
       "      <td>2015-05-04</td>\n",
       "      <td>08. Aug</td>\n",
       "    </tr>\n",
       "  </tbody>\n",
       "</table>\n",
       "</div>"
      ],
      "text/plain": [
       "   listing_id        date month_test\n",
       "0        2384  2015-01-09    08. Aug\n",
       "1        2384  2015-03-24    08. Aug\n",
       "2        2384  2015-04-19    08. Aug\n",
       "3        2384  2015-04-30    08. Aug\n",
       "4        2384  2015-05-04    08. Aug"
      ]
     },
     "execution_count": 86,
     "metadata": {},
     "output_type": "execute_result"
    }
   ],
   "source": [
    "reviews_df = pd.concat(map(pd.read_csv, glob.glob(os.path.join('static/data', \"reviews*.csv\"))))\n",
    "\n",
    "reviews_df = reviews_df.drop(['Unnamed: 0'], axis = 1) \n",
    "\n",
    "print(f'length is: {len(reviews_df)}')\n",
    "reviews_df.head()"
   ]
  },
  {
   "cell_type": "code",
   "execution_count": 87,
   "metadata": {},
   "outputs": [],
   "source": [
    "listings_df = listings_df.replace(r'\\n',' ', regex=True) \n",
    "listings_df = listings_df.replace(r\"'L'\",'L', regex=True) "
   ]
  },
  {
   "cell_type": "markdown",
   "metadata": {},
   "source": [
    "# Part III. Zip Codes, Bins, and Exporting\n",
    "***"
   ]
  },
  {
   "cell_type": "code",
   "execution_count": 79,
   "metadata": {},
   "outputs": [],
   "source": [
    "gkey = ''"
   ]
  },
  {
   "cell_type": "code",
   "execution_count": 44,
   "metadata": {},
   "outputs": [
    {
     "name": "stdout",
     "output_type": "stream",
     "text": [
      "Gross Length: 152240\n",
      "Net Length: 25614\n"
     ]
    },
    {
     "data": {
      "text/html": [
       "<div>\n",
       "<style scoped>\n",
       "    .dataframe tbody tr th:only-of-type {\n",
       "        vertical-align: middle;\n",
       "    }\n",
       "\n",
       "    .dataframe tbody tr th {\n",
       "        vertical-align: top;\n",
       "    }\n",
       "\n",
       "    .dataframe thead th {\n",
       "        text-align: right;\n",
       "    }\n",
       "</style>\n",
       "<table border=\"1\" class=\"dataframe\">\n",
       "  <thead>\n",
       "    <tr style=\"text-align: right;\">\n",
       "      <th></th>\n",
       "      <th>id</th>\n",
       "      <th>latitude</th>\n",
       "      <th>longitude</th>\n",
       "    </tr>\n",
       "  </thead>\n",
       "  <tbody>\n",
       "    <tr>\n",
       "      <th>0</th>\n",
       "      <td>2384</td>\n",
       "      <td>41.788865</td>\n",
       "      <td>-87.586709</td>\n",
       "    </tr>\n",
       "    <tr>\n",
       "      <th>1</th>\n",
       "      <td>4505</td>\n",
       "      <td>41.854953</td>\n",
       "      <td>-87.696962</td>\n",
       "    </tr>\n",
       "    <tr>\n",
       "      <th>2</th>\n",
       "      <td>6715</td>\n",
       "      <td>41.929262</td>\n",
       "      <td>-87.660091</td>\n",
       "    </tr>\n",
       "    <tr>\n",
       "      <th>3</th>\n",
       "      <td>7126</td>\n",
       "      <td>41.902895</td>\n",
       "      <td>-87.681822</td>\n",
       "    </tr>\n",
       "    <tr>\n",
       "      <th>4</th>\n",
       "      <td>9811</td>\n",
       "      <td>41.917689</td>\n",
       "      <td>-87.637879</td>\n",
       "    </tr>\n",
       "  </tbody>\n",
       "</table>\n",
       "</div>"
      ],
      "text/plain": [
       "     id   latitude  longitude\n",
       "0  2384  41.788865 -87.586709\n",
       "1  4505  41.854953 -87.696962\n",
       "2  6715  41.929262 -87.660091\n",
       "3  7126  41.902895 -87.681822\n",
       "4  9811  41.917689 -87.637879"
      ]
     },
     "execution_count": 44,
     "metadata": {},
     "output_type": "execute_result"
    }
   ],
   "source": [
    "temp = listings_df[['id', 'latitude', 'longitude']]\n",
    "print(f\"Gross Length: {len(temp)}\")\n",
    "\n",
    "temp = temp.drop_duplicates(subset=['latitude', 'longitude'], keep='first')\n",
    "print(f\"Net Length: {len(temp)}\")\n",
    "\n",
    "temp.head()"
   ]
  },
  {
   "cell_type": "code",
   "execution_count": 45,
   "metadata": {},
   "outputs": [
    {
     "data": {
      "text/html": [
       "<div>\n",
       "<style scoped>\n",
       "    .dataframe tbody tr th:only-of-type {\n",
       "        vertical-align: middle;\n",
       "    }\n",
       "\n",
       "    .dataframe tbody tr th {\n",
       "        vertical-align: top;\n",
       "    }\n",
       "\n",
       "    .dataframe thead th {\n",
       "        text-align: right;\n",
       "    }\n",
       "</style>\n",
       "<table border=\"1\" class=\"dataframe\">\n",
       "  <thead>\n",
       "    <tr style=\"text-align: right;\">\n",
       "      <th></th>\n",
       "      <th>id</th>\n",
       "      <th>latitude</th>\n",
       "      <th>longitude</th>\n",
       "      <th>concat</th>\n",
       "    </tr>\n",
       "  </thead>\n",
       "  <tbody>\n",
       "    <tr>\n",
       "      <th>0</th>\n",
       "      <td>2384</td>\n",
       "      <td>41.788865</td>\n",
       "      <td>-87.586709</td>\n",
       "      <td>41.788864900877655%2C-87.58670890962763</td>\n",
       "    </tr>\n",
       "    <tr>\n",
       "      <th>1</th>\n",
       "      <td>4505</td>\n",
       "      <td>41.854953</td>\n",
       "      <td>-87.696962</td>\n",
       "      <td>41.85495262496367%2C-87.69696178980682</td>\n",
       "    </tr>\n",
       "    <tr>\n",
       "      <th>2</th>\n",
       "      <td>6715</td>\n",
       "      <td>41.929262</td>\n",
       "      <td>-87.660091</td>\n",
       "      <td>41.92926222112926%2C-87.66009125412157</td>\n",
       "    </tr>\n",
       "    <tr>\n",
       "      <th>3</th>\n",
       "      <td>7126</td>\n",
       "      <td>41.902895</td>\n",
       "      <td>-87.681822</td>\n",
       "      <td>41.9028949379226%2C-87.68182159890866</td>\n",
       "    </tr>\n",
       "    <tr>\n",
       "      <th>4</th>\n",
       "      <td>9811</td>\n",
       "      <td>41.917689</td>\n",
       "      <td>-87.637879</td>\n",
       "      <td>41.91768923612023%2C-87.63787943696494</td>\n",
       "    </tr>\n",
       "  </tbody>\n",
       "</table>\n",
       "</div>"
      ],
      "text/plain": [
       "     id   latitude  longitude                                   concat\n",
       "0  2384  41.788865 -87.586709  41.788864900877655%2C-87.58670890962763\n",
       "1  4505  41.854953 -87.696962   41.85495262496367%2C-87.69696178980682\n",
       "2  6715  41.929262 -87.660091   41.92926222112926%2C-87.66009125412157\n",
       "3  7126  41.902895 -87.681822    41.9028949379226%2C-87.68182159890866\n",
       "4  9811  41.917689 -87.637879   41.91768923612023%2C-87.63787943696494"
      ]
     },
     "execution_count": 45,
     "metadata": {},
     "output_type": "execute_result"
    }
   ],
   "source": [
    "lat = temp['latitude']\n",
    "long = temp['longitude']\n",
    "\n",
    "temp['concat'] = temp['latitude'].map(str) + '%2C' + temp['longitude'].map(str)\n",
    "temp.head()"
   ]
  },
  {
   "cell_type": "code",
   "execution_count": 51,
   "metadata": {},
   "outputs": [
    {
     "name": "stdout",
     "output_type": "stream",
     "text": [
      "60637\n"
     ]
    }
   ],
   "source": [
    "temp_list = []\n",
    "\n",
    "for x in temp['concat'][:1]: \n",
    "    \n",
    "    base_url = (f'https://maps.google.com/maps/api/geocode/json?latlng={x}&key={gkey}')\n",
    "    temp_list.append(base_url)\n",
    "\n",
    "\n",
    "for item in temp_list:\n",
    "    \n",
    "    response = requests.get(item)\n",
    "    geo_data = response.json()\n",
    "    temp = geo_data[\"results\"][0]['address_components'][7]['long_name']\n",
    "    print(temp)"
   ]
  },
  {
   "cell_type": "code",
   "execution_count": 88,
   "metadata": {},
   "outputs": [
    {
     "data": {
      "image/png": "[encoded data removed]",
      "text/plain": [
       "<Figure size 432x288 with 1 Axes>"
      ]
     },
     "metadata": {
      "needs_background": "light"
     },
     "output_type": "display_data"
    }
   ],
   "source": [
    "import matplotlib.pyplot as plt\n",
    "\n",
    "price_bins = [-1,\n",
    "              50,\n",
    "              100,\n",
    "              150,\n",
    "              200,\n",
    "              300,\n",
    "              400,\n",
    "              500,\n",
    "              1000,\n",
    "              10000\n",
    "             ]\n",
    "\n",
    "price_ranges = ['<50 ',\n",
    "                '51-100',\n",
    "                '101-150',\n",
    "                '151-200',\n",
    "                '200-300',\n",
    "                '300-400',\n",
    "                '400-500',\n",
    "                '500-1,000',\n",
    "                '1,000+'\n",
    "               ]\n",
    "\n",
    "temp = listings_df[['price']]\n",
    "listings_df['price_range'] = pd.cut(temp['price'], price_bins, labels = price_ranges)\n",
    "\n",
    "temp = listings_df['price_range'].value_counts()\n",
    "\n",
    "temp = pd.DataFrame({'Labels' : temp.index,\n",
    "                     'Values' : temp.values \n",
    "                    })\n",
    "\n",
    "plt.bar(temp['Labels'], temp['Values'], color='lightskyblue', align=\"center\")\n",
    "plt.title(\"Price Range Dist.\")\n",
    "plt.xlabel(\"Price Range (USD)\")\n",
    "plt.ylabel(\"Price Range Count\")\n",
    "plt.xticks(rotation=45, ha = \"right\")\n",
    "plt.grid(alpha = 0.33)\n",
    "\n",
    "plt.show()"
   ]
  },
  {
   "cell_type": "code",
   "execution_count": 89,
   "metadata": {},
   "outputs": [
    {
     "data": {
      "text/html": [
       "<div>\n",
       "<style scoped>\n",
       "    .dataframe tbody tr th:only-of-type {\n",
       "        vertical-align: middle;\n",
       "    }\n",
       "\n",
       "    .dataframe tbody tr th {\n",
       "        vertical-align: top;\n",
       "    }\n",
       "\n",
       "    .dataframe thead th {\n",
       "        text-align: right;\n",
       "    }\n",
       "</style>\n",
       "<table border=\"1\" class=\"dataframe\">\n",
       "  <thead>\n",
       "    <tr style=\"text-align: right;\">\n",
       "      <th></th>\n",
       "      <th>id</th>\n",
       "      <th>price</th>\n",
       "      <th>price_range</th>\n",
       "    </tr>\n",
       "  </thead>\n",
       "  <tbody>\n",
       "    <tr>\n",
       "      <th>0</th>\n",
       "      <td>2384</td>\n",
       "      <td>55</td>\n",
       "      <td>51-100</td>\n",
       "    </tr>\n",
       "    <tr>\n",
       "      <th>1</th>\n",
       "      <td>4505</td>\n",
       "      <td>117</td>\n",
       "      <td>101-150</td>\n",
       "    </tr>\n",
       "    <tr>\n",
       "      <th>2</th>\n",
       "      <td>7126</td>\n",
       "      <td>80</td>\n",
       "      <td>51-100</td>\n",
       "    </tr>\n",
       "    <tr>\n",
       "      <th>3</th>\n",
       "      <td>9811</td>\n",
       "      <td>150</td>\n",
       "      <td>101-150</td>\n",
       "    </tr>\n",
       "    <tr>\n",
       "      <th>4</th>\n",
       "      <td>10610</td>\n",
       "      <td>35</td>\n",
       "      <td>&lt;50</td>\n",
       "    </tr>\n",
       "  </tbody>\n",
       "</table>\n",
       "</div>"
      ],
      "text/plain": [
       "      id  price price_range\n",
       "0   2384     55      51-100\n",
       "1   4505    117     101-150\n",
       "2   7126     80      51-100\n",
       "3   9811    150     101-150\n",
       "4  10610     35        <50 "
      ]
     },
     "execution_count": 89,
     "metadata": {},
     "output_type": "execute_result"
    }
   ],
   "source": [
    "listings_df[['id', 'price', 'price_range']].head()"
   ]
  },
  {
   "cell_type": "code",
   "execution_count": 90,
   "metadata": {},
   "outputs": [],
   "source": [
    "listings_df = listings_df.set_index('id')\n",
    "reviews_df = reviews_df.set_index('listing_id')\n",
    "\n",
    "listings_df.to_csv('static/data/df_listings.csv')\n",
    "reviews_df.to_csv('static/data/df_reviews.csv')"
   ]
  },
  {
   "cell_type": "markdown",
   "metadata": {},
   "source": [
    "SQLite - Setting up Tables:\n",
    "<br/> \n",
    "<img align=\"left\" src=\"static/data/SQL_Setup.PNG\">"
   ]
  },
  {
   "cell_type": "code",
   "execution_count": null,
   "metadata": {},
   "outputs": [],
   "source": []
  }
 ],
 "metadata": {
  "kernelspec": {
   "display_name": "Python 3",
   "language": "python",
   "name": "python3"
  },
  "language_info": {
   "codemirror_mode": {
    "name": "ipython",
    "version": 3
   },
   "file_extension": ".py",
   "mimetype": "text/x-python",
   "name": "python",
   "nbconvert_exporter": "python",
   "pygments_lexer": "ipython3",
   "version": "3.7.3"
  }
 },
 "nbformat": 4,
 "nbformat_minor": 2
}
